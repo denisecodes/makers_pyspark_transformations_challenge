{
 "cells": [
  {
   "cell_type": "code",
   "execution_count": 1,
   "metadata": {},
   "outputs": [
    {
     "name": "stderr",
     "output_type": "stream",
     "text": [
      "Setting default log level to \"WARN\".\n",
      "To adjust logging level use sc.setLogLevel(newLevel). For SparkR, use setLogLevel(newLevel).\n",
      "23/12/12 14:24:06 WARN NativeCodeLoader: Unable to load native-hadoop library for your platform... using builtin-java classes where applicable\n",
      "/usr/local/lib/python3.7/site-packages/pyspark/context.py:317: FutureWarning: Python 3.7 support is deprecated in Spark 3.4.\n",
      "  warnings.warn(\"Python 3.7 support is deprecated in Spark 3.4.\", FutureWarning)\n",
      "                                                                                \r"
     ]
    }
   ],
   "source": [
    "import csv \n",
    "from pyspark.sql import SparkSession\n",
    "\n",
    "spark = SparkSession.builder.appName(\"SpotifySongs\").getOrCreate()\n",
    "\n",
    "df = spark.read.csv(\"../../assets/data/spotify-2023.csv\", header=True, inferSchema=True)"
   ]
  },
  {
   "cell_type": "markdown",
   "metadata": {},
   "source": [
    "### 1. Most Streamed & Highest Ranking Tracks\n",
    "* Identify the top 5 tracks with the highest number of streams in 2023.\n",
    "* Identify the top 5 ranking tracks across all platforms.\n",
    "* Is there any crossover between these two findings?"
   ]
  },
  {
   "cell_type": "code",
   "execution_count": 2,
   "metadata": {},
   "outputs": [
    {
     "data": {
      "text/plain": [
       "[('track_name', 'string'),\n",
       " ('artist(s)_name', 'string'),\n",
       " ('artist_count', 'int'),\n",
       " ('released_year', 'int'),\n",
       " ('released_month', 'int'),\n",
       " ('released_day', 'int'),\n",
       " ('in_spotify_playlists', 'int'),\n",
       " ('in_spotify_charts', 'int'),\n",
       " ('streams', 'string'),\n",
       " ('in_apple_playlists', 'int'),\n",
       " ('in_apple_charts', 'int'),\n",
       " ('in_deezer_playlists', 'string'),\n",
       " ('in_deezer_charts', 'int'),\n",
       " ('in_shazam_charts', 'string'),\n",
       " ('bpm', 'int'),\n",
       " ('key', 'string'),\n",
       " ('mode', 'string'),\n",
       " ('danceability_%', 'int'),\n",
       " ('valence_%', 'int'),\n",
       " ('energy_%', 'int'),\n",
       " ('acousticness_%', 'int'),\n",
       " ('instrumentalness_%', 'int'),\n",
       " ('liveness_%', 'int'),\n",
       " ('speechiness_%', 'int')]"
      ]
     },
     "execution_count": 2,
     "metadata": {},
     "output_type": "execute_result"
    }
   ],
   "source": [
    "df.dtypes"
   ]
  },
  {
   "cell_type": "markdown",
   "metadata": {},
   "source": [
    "#### Top 5 tracks with the highest number of streams in 2023"
   ]
  },
  {
   "cell_type": "code",
   "execution_count": 3,
   "metadata": {},
   "outputs": [
    {
     "name": "stdout",
     "output_type": "stream",
     "text": [
      "+-----------------+--------------+-------------+----------+\n",
      "|       track_name|artist(s)_name|released_year|   streams|\n",
      "+-----------------+--------------+-------------+----------+\n",
      "|Take Me To Church|        Hozier|         2013|2135158446|\n",
      "|          Circles|   Post Malone|         2019|2132335812|\n",
      "|    Love Yourself| Justin Bieber|         2015|2123309722|\n",
      "|        All of Me|   John Legend|         2013|2086124197|\n",
      "|   Counting Stars|   OneRepublic|         2013|2011464183|\n",
      "+-----------------+--------------+-------------+----------+\n",
      "only showing top 5 rows\n",
      "\n"
     ]
    }
   ],
   "source": [
    "df.select(\"track_name\", \"artist(s)_name\", \"released_year\", \"streams\").orderBy(df.streams.cast('int').desc()).show(5)"
   ]
  },
  {
   "cell_type": "markdown",
   "metadata": {},
   "source": [
    "#### Top 5 ranking tracks across all platforms"
   ]
  },
  {
   "cell_type": "code",
   "execution_count": 4,
   "metadata": {},
   "outputs": [],
   "source": [
    "total_charts_presence_df = df.withColumn(\"total_charts_presence\", df.in_spotify_charts + df.in_apple_charts + df.in_deezer_charts + df.in_shazam_charts)"
   ]
  },
  {
   "cell_type": "code",
   "execution_count": 5,
   "metadata": {},
   "outputs": [
    {
     "name": "stdout",
     "output_type": "stream",
     "text": [
      "+--------------------+-----------------+-------------+---------------------+\n",
      "|          track_name|   artist(s)_name|released_year|total_charts_presence|\n",
      "+--------------------+-----------------+-------------+---------------------+\n",
      "|             vampire|   Olivia Rodrigo|         2023|               1283.0|\n",
      "|            Sprinter|Dave, Central Cee|         2023|               1267.0|\n",
      "|            fukumean|            Gunna|         2023|               1257.0|\n",
      "|Seven (feat. Latt...| Latto, Jung Kook|         2023|               1246.0|\n",
      "|              Tattoo|           Loreen|         2023|               1104.0|\n",
      "+--------------------+-----------------+-------------+---------------------+\n",
      "only showing top 5 rows\n",
      "\n"
     ]
    }
   ],
   "source": [
    "total_charts_presence_df.select(\"track_name\", \"artist(s)_name\", \"released_year\", \"total_charts_presence\").orderBy(total_charts_presence_df.total_charts_presence.desc()).show(5)"
   ]
  },
  {
   "cell_type": "markdown",
   "metadata": {},
   "source": [
    "#### Is there any crossover between these two findings?\n",
    "\n",
    "I didn't see any cross over between these two findings, all thet tracks are different that were the top 5 most streamed and the top 5 highest ranked across all platforms."
   ]
  },
  {
   "cell_type": "markdown",
   "metadata": {},
   "source": [
    "### 2. Artists with Most Tracks in Spotify Charts:\n",
    "\n",
    "* Group by the artist's name and count how many of their tracks made it to the Spotify charts. Display the top 10 artists."
   ]
  },
  {
   "cell_type": "code",
   "execution_count": 6,
   "metadata": {},
   "outputs": [],
   "source": [
    "top_artists = df.filter(df.in_spotify_charts != 0).groupBy(\"artist(s)_name\").count()"
   ]
  },
  {
   "cell_type": "code",
   "execution_count": 7,
   "metadata": {},
   "outputs": [
    {
     "name": "stderr",
     "output_type": "stream",
     "text": [
      "[Stage 4:>                                                          (0 + 1) / 1]\r"
     ]
    },
    {
     "name": "stdout",
     "output_type": "stream",
     "text": [
      "+--------------+-----+\n",
      "|artist(s)_name|count|\n",
      "+--------------+-----+\n",
      "|  Taylor Swift|   22|\n",
      "|     Bad Bunny|   12|\n",
      "|  Harry Styles|   10|\n",
      "|    The Weeknd|    8|\n",
      "|          Feid|    7|\n",
      "| Morgan Wallen|    6|\n",
      "|    Ed Sheeran|    6|\n",
      "|      NewJeans|    6|\n",
      "|Olivia Rodrigo|    5|\n",
      "|       Karol G|    4|\n",
      "+--------------+-----+\n",
      "only showing top 10 rows\n",
      "\n"
     ]
    },
    {
     "name": "stderr",
     "output_type": "stream",
     "text": [
      "                                                                                \r"
     ]
    }
   ],
   "source": [
    "top_artists.orderBy(top_artists[\"count\"].desc()).show(10)"
   ]
  },
  {
   "cell_type": "markdown",
   "metadata": {},
   "source": [
    "### 3. Filter and Select Attributes of Danceable Tracks:\n",
    "\n",
    "* Extract tracks with a danceability percentage of more than 80% and display their name, artist, bpm (beats per minute), and danceability percentage.\n",
    "* Identify any possible correlation between danceability and bpm."
   ]
  },
  {
   "cell_type": "code",
   "execution_count": 9,
   "metadata": {},
   "outputs": [
    {
     "name": "stdout",
     "output_type": "stream",
     "text": [
      "+--------------------+--------------------+---+--------------+\n",
      "|          track_name|      artist(s)_name|bpm|danceability_%|\n",
      "+--------------------+--------------------+---+--------------+\n",
      "|            Sprinter|   Dave, Central Cee|141|            92|\n",
      "|            fukumean|               Gunna|130|            85|\n",
      "|     La Bebe - Remix|Peso Pluma, Yng L...|170|            81|\n",
      "|          Classy 101|    Feid, Young Miko|100|            86|\n",
      "|Peso Pluma: Bzrp ...|Bizarrap, Peso Pluma|133|            85|\n",
      "|Popular (with Pla...|The Weeknd, Madon...| 99|            85|\n",
      "|        MOJABI GHOST|    Tainy, Bad Bunny|122|            81|\n",
      "|     Los del Espacio|Big One, Duki, Li...|120|            81|\n",
      "|            AMARGURA|             Karol G|107|            92|\n",
      "|          La Bachata|       Manuel Turizo|125|            84|\n",
      "|                 S91|             Karol G|128|            86|\n",
      "|                 T��|dennis, MC Kevin ...|130|            86|\n",
      "|Left and Right (F...|Charlie Puth, BTS...|101|            88|\n",
      "|             Hey Mor|         Ozuna, Feid| 98|            90|\n",
      "|     Me Porto Bonito|Chencho Corleone,...| 92|            91|\n",
      "|              Makeba|                Jain|116|            82|\n",
      "|All My Life (feat...|   J. Cole, Lil Durk|143|            83|\n",
      "|           New Jeans|            NewJeans|134|            81|\n",
      "|            Rara Vez|        Taiu, Milo j|120|            84|\n",
      "|           VAGABUNDO|Sebastian Yatra, ...|127|            82|\n",
      "+--------------------+--------------------+---+--------------+\n",
      "only showing top 20 rows\n",
      "\n"
     ]
    }
   ],
   "source": [
    "danceable_tracks = df.select(\"track_name\", \"artist(s)_name\", \"bpm\", \"danceability_%\").filter(df[\"danceability_%\"] > 80)\n",
    "danceable_tracks.show()"
   ]
  },
  {
   "cell_type": "markdown",
   "metadata": {},
   "source": [
    "To see if there is any correlation I believe we should check the correlation between danceability and bpm"
   ]
  },
  {
   "cell_type": "code",
   "execution_count": 10,
   "metadata": {},
   "outputs": [
    {
     "data": {
      "text/plain": [
       "0.016846197056879803"
      ]
     },
     "execution_count": 10,
     "metadata": {},
     "output_type": "execute_result"
    }
   ],
   "source": [
    "danceable_tracks.stat.corr(\"danceability_%\", \"bpm\")"
   ]
  },
  {
   "cell_type": "markdown",
   "metadata": {},
   "source": [
    "Base on the data analysis module we did before, anything between 0 to 0.18 is considered weak according to the British Medical Journal. From this it seems the correlation is low but it's good to double check how this is visually before jumping into conclusions. "
   ]
  },
  {
   "cell_type": "code",
   "execution_count": 13,
   "metadata": {},
   "outputs": [
    {
     "data": {
      "image/png": "[encoded data removed]",
      "text/plain": [
       "<Figure size 640x480 with 1 Axes>"
      ]
     },
     "metadata": {},
     "output_type": "display_data"
    }
   ],
   "source": [
    "import matplotlib.pyplot as plt\n",
    "\n",
    "plt.scatter(danceable_tracks.select(\"danceability_%\").collect(), danceable_tracks.select(\"bpm\").collect())\n",
    "plt.xlabel(\"Danceability\")\n",
    "plt.ylabel(\"BPM\")\n",
    "plt.show()"
   ]
  },
  {
   "cell_type": "markdown",
   "metadata": {},
   "source": [
    "From this we can confirm that the data points are scattered all over and that there is no trend, correlation between danceability and bpm."
   ]
  }
 ],
 "metadata": {
  "kernelspec": {
   "display_name": "Python 3",
   "language": "python",
   "name": "python3"
  },
  "language_info": {
   "codemirror_mode": {
    "name": "ipython",
    "version": 3
   },
   "file_extension": ".py",
   "mimetype": "text/x-python",
   "name": "python",
   "nbconvert_exporter": "python",
   "pygments_lexer": "ipython3",
   "version": "3.7.16"
  }
 },
 "nbformat": 4,
 "nbformat_minor": 2
}
